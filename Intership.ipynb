{
 "cells": [
  {
   "cell_type": "code",
   "execution_count": 5,
   "id": "74f45e0c-d629-4832-8c3a-850ea52b1780",
   "metadata": {},
   "outputs": [],
   "source": [
    "import pandas as pd"
   ]
  },
  {
   "cell_type": "code",
   "execution_count": 7,
   "id": "0935d0eb-dc27-4b70-8745-8b8d19f1ba80",
   "metadata": {},
   "outputs": [
    {
     "data": {
      "text/html": [
       "<div>\n",
       "<style scoped>\n",
       "    .dataframe tbody tr th:only-of-type {\n",
       "        vertical-align: middle;\n",
       "    }\n",
       "\n",
       "    .dataframe tbody tr th {\n",
       "        vertical-align: top;\n",
       "    }\n",
       "\n",
       "    .dataframe thead th {\n",
       "        text-align: right;\n",
       "    }\n",
       "</style>\n",
       "<table border=\"1\" class=\"dataframe\">\n",
       "  <thead>\n",
       "    <tr style=\"text-align: right;\">\n",
       "      <th></th>\n",
       "      <th>User ID</th>\n",
       "      <th>Age</th>\n",
       "      <th>Gender</th>\n",
       "      <th>Location</th>\n",
       "      <th>Phone Brand</th>\n",
       "      <th>OS</th>\n",
       "      <th>Screen Time (hrs/day)</th>\n",
       "      <th>Data Usage (GB/month)</th>\n",
       "      <th>Calls Duration (mins/day)</th>\n",
       "      <th>Number of Apps Installed</th>\n",
       "      <th>Social Media Time (hrs/day)</th>\n",
       "      <th>E-commerce Spend (INR/month)</th>\n",
       "      <th>Streaming Time (hrs/day)</th>\n",
       "      <th>Gaming Time (hrs/day)</th>\n",
       "      <th>Monthly Recharge Cost (INR)</th>\n",
       "      <th>Primary Use</th>\n",
       "    </tr>\n",
       "  </thead>\n",
       "  <tbody>\n",
       "    <tr>\n",
       "      <th>0</th>\n",
       "      <td>U00001</td>\n",
       "      <td>53</td>\n",
       "      <td>Male</td>\n",
       "      <td>Mumbai</td>\n",
       "      <td>Vivo</td>\n",
       "      <td>Android</td>\n",
       "      <td>3.7</td>\n",
       "      <td>23.9</td>\n",
       "      <td>37.9</td>\n",
       "      <td>104</td>\n",
       "      <td>3.9</td>\n",
       "      <td>469</td>\n",
       "      <td>5.2</td>\n",
       "      <td>4.1</td>\n",
       "      <td>803</td>\n",
       "      <td>Education</td>\n",
       "    </tr>\n",
       "    <tr>\n",
       "      <th>1</th>\n",
       "      <td>U00002</td>\n",
       "      <td>60</td>\n",
       "      <td>Other</td>\n",
       "      <td>Delhi</td>\n",
       "      <td>Realme</td>\n",
       "      <td>Android</td>\n",
       "      <td>9.2</td>\n",
       "      <td>28.1</td>\n",
       "      <td>13.7</td>\n",
       "      <td>169</td>\n",
       "      <td>2.8</td>\n",
       "      <td>4997</td>\n",
       "      <td>5.1</td>\n",
       "      <td>0.4</td>\n",
       "      <td>1526</td>\n",
       "      <td>Gaming</td>\n",
       "    </tr>\n",
       "    <tr>\n",
       "      <th>2</th>\n",
       "      <td>U00003</td>\n",
       "      <td>37</td>\n",
       "      <td>Female</td>\n",
       "      <td>Ahmedabad</td>\n",
       "      <td>Nokia</td>\n",
       "      <td>Android</td>\n",
       "      <td>4.5</td>\n",
       "      <td>12.3</td>\n",
       "      <td>66.8</td>\n",
       "      <td>96</td>\n",
       "      <td>3.0</td>\n",
       "      <td>2381</td>\n",
       "      <td>1.7</td>\n",
       "      <td>2.9</td>\n",
       "      <td>1619</td>\n",
       "      <td>Entertainment</td>\n",
       "    </tr>\n",
       "    <tr>\n",
       "      <th>3</th>\n",
       "      <td>U00004</td>\n",
       "      <td>32</td>\n",
       "      <td>Male</td>\n",
       "      <td>Pune</td>\n",
       "      <td>Samsung</td>\n",
       "      <td>Android</td>\n",
       "      <td>11.0</td>\n",
       "      <td>25.6</td>\n",
       "      <td>156.2</td>\n",
       "      <td>146</td>\n",
       "      <td>5.2</td>\n",
       "      <td>1185</td>\n",
       "      <td>3.2</td>\n",
       "      <td>0.3</td>\n",
       "      <td>1560</td>\n",
       "      <td>Entertainment</td>\n",
       "    </tr>\n",
       "    <tr>\n",
       "      <th>4</th>\n",
       "      <td>U00005</td>\n",
       "      <td>16</td>\n",
       "      <td>Male</td>\n",
       "      <td>Mumbai</td>\n",
       "      <td>Xiaomi</td>\n",
       "      <td>Android</td>\n",
       "      <td>2.2</td>\n",
       "      <td>2.5</td>\n",
       "      <td>236.2</td>\n",
       "      <td>86</td>\n",
       "      <td>5.5</td>\n",
       "      <td>106</td>\n",
       "      <td>3.4</td>\n",
       "      <td>2.3</td>\n",
       "      <td>742</td>\n",
       "      <td>Social Media</td>\n",
       "    </tr>\n",
       "    <tr>\n",
       "      <th>5</th>\n",
       "      <td>U00006</td>\n",
       "      <td>21</td>\n",
       "      <td>Male</td>\n",
       "      <td>Jaipur</td>\n",
       "      <td>Oppo</td>\n",
       "      <td>Android</td>\n",
       "      <td>5.4</td>\n",
       "      <td>10.6</td>\n",
       "      <td>210.6</td>\n",
       "      <td>25</td>\n",
       "      <td>4.2</td>\n",
       "      <td>6285</td>\n",
       "      <td>0.6</td>\n",
       "      <td>4.8</td>\n",
       "      <td>1749</td>\n",
       "      <td>Entertainment</td>\n",
       "    </tr>\n",
       "    <tr>\n",
       "      <th>6</th>\n",
       "      <td>U00007</td>\n",
       "      <td>57</td>\n",
       "      <td>Female</td>\n",
       "      <td>Lucknow</td>\n",
       "      <td>Apple</td>\n",
       "      <td>iOS</td>\n",
       "      <td>6.0</td>\n",
       "      <td>35.2</td>\n",
       "      <td>154.5</td>\n",
       "      <td>123</td>\n",
       "      <td>0.8</td>\n",
       "      <td>2653</td>\n",
       "      <td>2.9</td>\n",
       "      <td>2.3</td>\n",
       "      <td>1073</td>\n",
       "      <td>Social Media</td>\n",
       "    </tr>\n",
       "    <tr>\n",
       "      <th>7</th>\n",
       "      <td>U00008</td>\n",
       "      <td>56</td>\n",
       "      <td>Other</td>\n",
       "      <td>Kolkata</td>\n",
       "      <td>Realme</td>\n",
       "      <td>Android</td>\n",
       "      <td>3.1</td>\n",
       "      <td>43.5</td>\n",
       "      <td>125.3</td>\n",
       "      <td>188</td>\n",
       "      <td>2.3</td>\n",
       "      <td>9767</td>\n",
       "      <td>5.2</td>\n",
       "      <td>5.0</td>\n",
       "      <td>1136</td>\n",
       "      <td>Entertainment</td>\n",
       "    </tr>\n",
       "    <tr>\n",
       "      <th>8</th>\n",
       "      <td>U00009</td>\n",
       "      <td>46</td>\n",
       "      <td>Female</td>\n",
       "      <td>Kolkata</td>\n",
       "      <td>Oppo</td>\n",
       "      <td>Android</td>\n",
       "      <td>5.3</td>\n",
       "      <td>46.4</td>\n",
       "      <td>21.3</td>\n",
       "      <td>194</td>\n",
       "      <td>3.7</td>\n",
       "      <td>2870</td>\n",
       "      <td>6.1</td>\n",
       "      <td>2.8</td>\n",
       "      <td>1253</td>\n",
       "      <td>Entertainment</td>\n",
       "    </tr>\n",
       "    <tr>\n",
       "      <th>9</th>\n",
       "      <td>U00010</td>\n",
       "      <td>44</td>\n",
       "      <td>Other</td>\n",
       "      <td>Kolkata</td>\n",
       "      <td>Apple</td>\n",
       "      <td>iOS</td>\n",
       "      <td>9.9</td>\n",
       "      <td>10.6</td>\n",
       "      <td>180.2</td>\n",
       "      <td>84</td>\n",
       "      <td>4.8</td>\n",
       "      <td>9193</td>\n",
       "      <td>7.6</td>\n",
       "      <td>0.4</td>\n",
       "      <td>168</td>\n",
       "      <td>Education</td>\n",
       "    </tr>\n",
       "  </tbody>\n",
       "</table>\n",
       "</div>"
      ],
      "text/plain": [
       "  User ID  Age  Gender   Location Phone Brand       OS  Screen Time (hrs/day)  \\\n",
       "0  U00001   53    Male     Mumbai        Vivo  Android                    3.7   \n",
       "1  U00002   60   Other      Delhi      Realme  Android                    9.2   \n",
       "2  U00003   37  Female  Ahmedabad       Nokia  Android                    4.5   \n",
       "3  U00004   32    Male       Pune     Samsung  Android                   11.0   \n",
       "4  U00005   16    Male     Mumbai      Xiaomi  Android                    2.2   \n",
       "5  U00006   21    Male     Jaipur        Oppo  Android                    5.4   \n",
       "6  U00007   57  Female    Lucknow       Apple      iOS                    6.0   \n",
       "7  U00008   56   Other    Kolkata      Realme  Android                    3.1   \n",
       "8  U00009   46  Female    Kolkata        Oppo  Android                    5.3   \n",
       "9  U00010   44   Other    Kolkata       Apple      iOS                    9.9   \n",
       "\n",
       "   Data Usage (GB/month)  Calls Duration (mins/day)  Number of Apps Installed  \\\n",
       "0                   23.9                       37.9                       104   \n",
       "1                   28.1                       13.7                       169   \n",
       "2                   12.3                       66.8                        96   \n",
       "3                   25.6                      156.2                       146   \n",
       "4                    2.5                      236.2                        86   \n",
       "5                   10.6                      210.6                        25   \n",
       "6                   35.2                      154.5                       123   \n",
       "7                   43.5                      125.3                       188   \n",
       "8                   46.4                       21.3                       194   \n",
       "9                   10.6                      180.2                        84   \n",
       "\n",
       "   Social Media Time (hrs/day)  E-commerce Spend (INR/month)  \\\n",
       "0                          3.9                           469   \n",
       "1                          2.8                          4997   \n",
       "2                          3.0                          2381   \n",
       "3                          5.2                          1185   \n",
       "4                          5.5                           106   \n",
       "5                          4.2                          6285   \n",
       "6                          0.8                          2653   \n",
       "7                          2.3                          9767   \n",
       "8                          3.7                          2870   \n",
       "9                          4.8                          9193   \n",
       "\n",
       "   Streaming Time (hrs/day)  Gaming Time (hrs/day)  \\\n",
       "0                       5.2                    4.1   \n",
       "1                       5.1                    0.4   \n",
       "2                       1.7                    2.9   \n",
       "3                       3.2                    0.3   \n",
       "4                       3.4                    2.3   \n",
       "5                       0.6                    4.8   \n",
       "6                       2.9                    2.3   \n",
       "7                       5.2                    5.0   \n",
       "8                       6.1                    2.8   \n",
       "9                       7.6                    0.4   \n",
       "\n",
       "   Monthly Recharge Cost (INR)    Primary Use  \n",
       "0                          803      Education  \n",
       "1                         1526         Gaming  \n",
       "2                         1619  Entertainment  \n",
       "3                         1560  Entertainment  \n",
       "4                          742   Social Media  \n",
       "5                         1749  Entertainment  \n",
       "6                         1073   Social Media  \n",
       "7                         1136  Entertainment  \n",
       "8                         1253  Entertainment  \n",
       "9                          168      Education  "
      ]
     },
     "execution_count": 7,
     "metadata": {},
     "output_type": "execute_result"
    }
   ],
   "source": [
    "data=pd.read_csv('phone_Usage_Indian.csv')\n",
    "data.head(10)"
   ]
  },
  {
   "cell_type": "markdown",
   "id": "6fe611a6-b15b-46fe-9349-a08f62c97614",
   "metadata": {},
   "source": [
    "# 1. Average screen time os"
   ]
  },
  {
   "cell_type": "code",
   "execution_count": 9,
   "id": "8563c7c2-b340-43b8-b6e8-2996db12e455",
   "metadata": {},
   "outputs": [
    {
     "name": "stdout",
     "output_type": "stream",
     "text": [
      "        OS  Screen Time (hrs/day)\n",
      "0  Android               6.548979\n",
      "1      iOS               6.523042\n"
     ]
    }
   ],
   "source": [
    "import pandas as pd\n",
    "\n",
    "# Load the dataset\n",
    "data = pd.read_csv('phone_Usage_Indian.csv')\n",
    "\n",
    "# Calculate average data usage for each age group\n",
    "average_screen_time= data.groupby(\"OS\")[\"Screen Time (hrs/day)\"].mean().reset_index()\n",
    "\n",
    "# Save to CSV\n",
    "average_screen_time.to_csv(\"1Screentime.csv\", index=False)\n",
    "\n",
    "# Display the result\n",
    "print(average_screen_time)\n"
   ]
  },
  {
   "cell_type": "markdown",
   "id": "2240accb-f3cf-4aac-a2b2-8244a9da177f",
   "metadata": {},
   "source": [
    "# find the null values in ST"
   ]
  },
  {
   "cell_type": "code",
   "execution_count": 7,
   "id": "4e403d0c-3db5-4c35-baa5-2986ccd75092",
   "metadata": {},
   "outputs": [],
   "source": [
    "# Remove rows with missing screen time values (if any)\n",
    "data = data.dropna(subset=['Screen Time (hrs/day)'])"
   ]
  },
  {
   "cell_type": "code",
   "execution_count": 15,
   "id": "38799491-f5f5-4c51-bf8f-798cbee2f9e2",
   "metadata": {},
   "outputs": [
    {
     "data": {
      "text/plain": [
       "0         3.7\n",
       "1         9.2\n",
       "2         4.5\n",
       "3        11.0\n",
       "4         2.2\n",
       "         ... \n",
       "17681     7.2\n",
       "17682     9.5\n",
       "17683     1.1\n",
       "17684     8.8\n",
       "17685     5.6\n",
       "Name: ST, Length: 17686, dtype: float64"
      ]
     },
     "execution_count": 15,
     "metadata": {},
     "output_type": "execute_result"
    }
   ],
   "source": [
    "# Fill missing screen time values with the mean\n",
    "data['ST'] = data['Screen Time (hrs/day)'].fillna(data['Screen Time (hrs/day)'].mean())\n",
    "data['ST']"
   ]
  },
  {
   "cell_type": "code",
   "execution_count": 17,
   "id": "51fe733e-9083-4d47-8c54-3526f205b6ec",
   "metadata": {},
   "outputs": [],
   "source": [
    "data['ST'].to_csv('data.csv',index=False)"
   ]
  },
  {
   "cell_type": "markdown",
   "id": "eb080360-c4b7-4243-ae94-b897b029accf",
   "metadata": {},
   "source": [
    "# 2. Top 5 location with highest average data usage per month\n"
   ]
  },
  {
   "cell_type": "code",
   "execution_count": 21,
   "id": "509eca52-8fd3-4a0c-becd-c3fffe22c633",
   "metadata": {},
   "outputs": [
    {
     "name": "stdout",
     "output_type": "stream",
     "text": [
      "    Location  Data Usage (GB/month)\n",
      "0  Ahmedabad              26.277423\n",
      "3      Delhi              25.787606\n",
      "5     Jaipur              25.540954\n",
      "7    Lucknow              25.534294\n",
      "4  Hyderabad              25.385647\n",
      "9       Pune              25.351680\n",
      "8     Mumbai              25.340825\n",
      "6    Kolkata              25.205254\n",
      "1  Bangalore              24.986282\n",
      "2    Chennai              24.707709\n"
     ]
    }
   ],
   "source": [
    "top_locations = data.groupby('Location')['Data Usage (GB/month)'].mean().reset_index()\n",
    "\n",
    "# Sort the locations by the average data usage in descending order and get the top 10\n",
    "top_10_locations = top_locations.sort_values(by='Data Usage (GB/month)',ascending=False).head(10)\n",
    "print(top_10_locations)\n",
    "\n",
    "top_locations.to_csv('2top_locations.csv',index=False)"
   ]
  },
  {
   "cell_type": "markdown",
   "id": "6526f5e8-e616-4f40-87ba-864f2c8a3bf7",
   "metadata": {},
   "source": [
    "# 3. spend more the 3 hours per day on social media\n"
   ]
  },
  {
   "cell_type": "code",
   "execution_count": 23,
   "id": "a7172ac1-dc5c-43a5-a822-9dc7b562c10d",
   "metadata": {},
   "outputs": [
    {
     "name": "stdout",
     "output_type": "stream",
     "text": [
      "Total number of users who spend more than 3 hours per day on social media: 9454\n"
     ]
    }
   ],
   "source": [
    "import pandas as pd\n",
    "users_above_3_hours = data[data['Social Media Time (hrs/day)']>3]\n",
    "\n",
    "#count the number of such users\n",
    "total_users=len(users_above_3_hours)\n",
    "print(f'Total number of users who spend more than 3 hours per day on social media: {total_users}')\n",
    "\n",
    "total_users_data=pd.DataFrame({'total_users':[total_users]})\n",
    "\n",
    "#convert csv file\n",
    "total_users_data.to_csv('social_media.csv',index=False)"
   ]
  },
  {
   "cell_type": "markdown",
   "id": "4b1b9d6a-667d-4656-94b4-346f1afdfe95",
   "metadata": {},
   "source": [
    "# 4.Used by the maximum number of users in phone brand\n"
   ]
  },
  {
   "cell_type": "code",
   "execution_count": 25,
   "id": "804c5728-1a22-4f8c-86fd-9987155c6bc1",
   "metadata": {},
   "outputs": [
    {
     "name": "stdout",
     "output_type": "stream",
     "text": [
      "the phone brand used by the maximum number of users is:    Phone Brand  count\n",
      "0         Nokia   1816\n",
      "1       OnePlus   1807\n",
      "2        Xiaomi   1803\n",
      "3          Vivo   1797\n",
      "4         Apple   1775\n",
      "5       Samsung   1764\n",
      "6        Realme   1762\n",
      "7  Google Pixel   1729\n",
      "8      Motorola   1717\n",
      "9          Oppo   1716\n"
     ]
    }
   ],
   "source": [
    "import pandas as pd\n",
    "brand = data['Phone Brand'].value_counts().reset_index()\n",
    "print(f'the phone brand used by the maximum number of users is:{brand}')\n",
    "\n",
    "\n",
    "brand.to_csv('4brand.csv',index=False)"
   ]
  },
  {
   "cell_type": "markdown",
   "id": "246f99ec-57e9-442d-8ef4-05f5307d02c5",
   "metadata": {},
   "source": [
    "# 5.  average monthly recharge cost for users who primarily use their phone for gaming"
   ]
  },
  {
   "cell_type": "code",
   "execution_count": 27,
   "id": "95395c0a-485e-4d18-95e5-5f7fce72e4b4",
   "metadata": {},
   "outputs": [
    {
     "name": "stdout",
     "output_type": "stream",
     "text": [
      "1        1526\n",
      "21        446\n",
      "23       1118\n",
      "26        210\n",
      "33       1079\n",
      "         ... \n",
      "17649    1082\n",
      "17652    1771\n",
      "17654    1850\n",
      "17660     874\n",
      "17685    1098\n",
      "Name: Monthly Recharge Cost (INR), Length: 3576, dtype: int64\n"
     ]
    }
   ],
   "source": [
    "average_recharge_cost=data[data['Primary Use']=='Gaming']['Monthly Recharge Cost (INR)']\n",
    "print(average_recharge_cost)\n",
    "average_recharge_cost.to_csv('5avg.csv',index=False)"
   ]
  },
  {
   "cell_type": "markdown",
   "id": "1681ecf6-a14d-4d8e-83de-a39ec10a5d6e",
   "metadata": {},
   "source": [
    "# 6.Retrieve the top 3 users who make the longest average call duration per day.\n"
   ]
  },
  {
   "cell_type": "code",
   "execution_count": 29,
   "id": "febda8f5-06fb-4ee5-aa83-5db82645d632",
   "metadata": {},
   "outputs": [
    {
     "name": "stdout",
     "output_type": "stream",
     "text": [
      "15278    300.0\n",
      "3940     300.0\n",
      "5157     299.9\n",
      "Name: Average_call_duration_per_day, dtype: float64\n"
     ]
    }
   ],
   "source": [
    "data['Average_call_duration_per_day']=data['Calls Duration (mins/day)']\n",
    "top_3_users = data.sort_values(by='Average_call_duration_per_day',ascending=False).head(3)\n",
    "\n",
    "# Display the top 3 users\n",
    "print(top_3_users['Average_call_duration_per_day'])\n",
    "top_3_users.to_csv('6top3.csv',index=False)"
   ]
  },
  {
   "cell_type": "markdown",
   "id": "86011161-9128-4bb2-a6f4-61505b3405df",
   "metadata": {},
   "source": [
    "# 7. Find the most common operating system among users."
   ]
  },
  {
   "cell_type": "code",
   "execution_count": 39,
   "id": "dcfe6418-634a-46c2-8dc1-329dc29cb03a",
   "metadata": {},
   "outputs": [
    {
     "name": "stdout",
     "output_type": "stream",
     "text": [
      "Find the most common operating system among users is:        OS  count\n",
      "0  Android  15911\n",
      "1      iOS   1775\n"
     ]
    }
   ],
   "source": [
    "os = data['OS'].value_counts().reset_index()\n",
    "print(f'Find the most common operating system among users is:{os}')\n",
    "\n",
    "os.to_csv('sevencommon_os.csv',index=False)"
   ]
  },
  {
   "cell_type": "markdown",
   "id": "a8838cea-45e7-425d-b534-8da6483cb692",
   "metadata": {},
   "source": [
    "# 8.Find the users who have installed more than 50 apps on their phones.\n"
   ]
  },
  {
   "cell_type": "code",
   "execution_count": 41,
   "id": "7d114224-3d7e-4b3a-bc2d-8b494770376a",
   "metadata": {},
   "outputs": [
    {
     "name": "stdout",
     "output_type": "stream",
     "text": [
      "      User ID  Number of Apps Installed\n",
      "0      U00001                       104\n",
      "1      U00002                       169\n",
      "2      U00003                        96\n",
      "3      U00004                       146\n",
      "4      U00005                        86\n",
      "...       ...                       ...\n",
      "17681  U17682                        81\n",
      "17682  U17683                       166\n",
      "17683  U17684                        70\n",
      "17684  U17685                        96\n",
      "17685  U17686                        78\n",
      "\n",
      "[13856 rows x 2 columns]\n"
     ]
    }
   ],
   "source": [
    "a = data[data['Number of Apps Installed']>50][['User ID','Number of Apps Installed']]\n",
    "print(a)\n",
    "a.to_csv('8installed_app.csv',index=False)"
   ]
  },
  {
   "cell_type": "code",
   "execution_count": 49,
   "id": "0cf6a270-bca3-4b59-8c24-e2913999a83f",
   "metadata": {},
   "outputs": [
    {
     "name": "stdout",
     "output_type": "stream",
     "text": [
      "                      index                                                  0\n",
      "0               Phone Brand  OppoNokiaRealmeMotorolaXiaomiMotorolaXiaomiOne...\n",
      "1  Number of Apps Installed                                             109821\n"
     ]
    }
   ],
   "source": [
    "a = data[data['Number of Apps Installed']<50][['Phone Brand','Number of Apps Installed']].sum().reset_index()\n",
    "print(a)\n",
    "a.to_csv('eightinstalled_app.csv',index=False)"
   ]
  },
  {
   "cell_type": "markdown",
   "id": "7cbbbd14-2630-4ed2-bf54-f448b5412fbe",
   "metadata": {},
   "source": [
    "# 9. Calculate the total e-commerce spending for each gender.\n"
   ]
  },
  {
   "cell_type": "code",
   "execution_count": 50,
   "id": "f1b5e29c-69bb-41c0-81ac-0177b40f31c2",
   "metadata": {},
   "outputs": [
    {
     "name": "stdout",
     "output_type": "stream",
     "text": [
      "   Gender  E-commerce Spend (INR/month)\n",
      "0  Female                      30666217\n",
      "1    Male                      29372728\n",
      "2   Other                      29730024\n"
     ]
    }
   ],
   "source": [
    "total_spending_by_gender = data.groupby('Gender')['E-commerce Spend (INR/month)'].sum().reset_index()\n",
    "\n",
    "# Display the result\n",
    "print(total_spending_by_gender)\n",
    "\n",
    "total_spending_by_gender.to_csv('9Gender.csv',index=False)"
   ]
  },
  {
   "cell_type": "markdown",
   "id": "2acd9c7a-d524-48bd-8f86-488d0483b64c",
   "metadata": {},
   "source": [
    "# 10. Find users who have both high gaming time (more than 2 hours/day) and High streaming time (more than 3 hours/day"
   ]
  },
  {
   "cell_type": "code",
   "execution_count": 11,
   "id": "e827a4e6-2f31-442e-9955-f96cf94ca732",
   "metadata": {},
   "outputs": [
    {
     "name": "stdout",
     "output_type": "stream",
     "text": [
      "User with high gaming and high streaming time:\n",
      "       Gaming Time (hrs/day)  Streaming Time (hrs/day)\n",
      "0                        4.1                       5.2\n",
      "4                        2.3                       3.4\n",
      "7                        5.0                       5.2\n",
      "8                        2.8                       6.1\n",
      "11                       2.7                       3.5\n",
      "...                      ...                       ...\n",
      "17670                    4.1                       3.6\n",
      "17671                    4.0                       7.9\n",
      "17674                    4.3                       6.5\n",
      "17675                    3.4                       4.3\n",
      "17681                    3.3                       3.8\n",
      "\n",
      "[6863 rows x 2 columns]\n"
     ]
    }
   ],
   "source": [
    "High_gaming_and_streaming = data[(data['Gaming Time (hrs/day)']>2) & (data['Streaming Time (hrs/day)']>3)]\n",
    "print(\"User with high gaming and high streaming time:\")\n",
    "print(High_gaming_and_streaming[['Gaming Time (hrs/day)','Streaming Time (hrs/day)']])\n",
    "\n",
    "High_gaming_and_streaming.to_csv('High_gaming_and_streaming.csv',index=False)"
   ]
  },
  {
   "cell_type": "code",
   "execution_count": 36,
   "id": "904bc99e-a73a-42b7-b4fc-addff586acf1",
   "metadata": {},
   "outputs": [
    {
     "name": "stdout",
     "output_type": "stream",
     "text": [
      "      User ID  Gaming Time (hrs/day)  Streaming Time (hrs/day)\n",
      "0      U00001                    4.1                       5.2\n",
      "4      U00005                    2.3                       3.4\n",
      "7      U00008                    5.0                       5.2\n",
      "8      U00009                    2.8                       6.1\n",
      "11     U00012                    2.7                       3.5\n",
      "...       ...                    ...                       ...\n",
      "17670  U17671                    4.1                       3.6\n",
      "17671  U17672                    4.0                       7.9\n",
      "17674  U17675                    4.3                       6.5\n",
      "17675  U17676                    3.4                       4.3\n",
      "17681  U17682                    3.3                       3.8\n",
      "\n",
      "[6863 rows x 3 columns]\n"
     ]
    }
   ],
   "source": [
    "df_filtered =data[(data[\"Gaming Time (hrs/day)\"] >2) & (data[\"Streaming Time (hrs/day)\"]>3)][[\"User ID\",\"Gaming Time (hrs/day)\",\"Streaming Time (hrs/day)\"]]\n",
    "df_filtered.head(10)\n",
    "print(df_filtered)\n",
    "df_filtered.to_csv('10gaming_streaming.csv',index=False)"
   ]
  },
  {
   "cell_type": "code",
   "execution_count": null,
   "id": "0029950e-b2b8-440c-9620-7762dbcb5d01",
   "metadata": {},
   "outputs": [],
   "source": []
  }
 ],
 "metadata": {
  "kernelspec": {
   "display_name": "Python 3 (ipykernel)",
   "language": "python",
   "name": "python3"
  },
  "language_info": {
   "codemirror_mode": {
    "name": "ipython",
    "version": 3
   },
   "file_extension": ".py",
   "mimetype": "text/x-python",
   "name": "python",
   "nbconvert_exporter": "python",
   "pygments_lexer": "ipython3",
   "version": "3.12.4"
  }
 },
 "nbformat": 4,
 "nbformat_minor": 5
}
